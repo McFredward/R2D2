{
 "cells": [
  {
   "cell_type": "code",
   "execution_count": 1,
   "id": "f9be09a0",
   "metadata": {},
   "outputs": [
    {
     "name": "stderr",
     "output_type": "stream",
     "text": [
      "/home/timorius/Studium/Semester2/PR-PAMI/doomenv/lib/python3.8/site-packages/tqdm/auto.py:22: TqdmWarning: IProgress not found. Please update jupyter and ipywidgets. See https://ipywidgets.readthedocs.io/en/stable/user_install.html\n",
      "  from .autonotebook import tqdm as notebook_tqdm\n",
      "/home/timorius/Studium/Semester2/PR-PAMI/doomenv/lib/python3.8/site-packages/gym/envs/registration.py:517: UserWarning: \u001b[33mWARN: Overriding environment VizdoomBasic-v0\u001b[0m\n",
      "  logger.warn(f\"Overriding environment {spec.id}\")\n",
      "/home/timorius/Studium/Semester2/PR-PAMI/doomenv/lib/python3.8/site-packages/gym/envs/registration.py:517: UserWarning: \u001b[33mWARN: Overriding environment VizdoomCorridor-v0\u001b[0m\n",
      "  logger.warn(f\"Overriding environment {spec.id}\")\n",
      "/home/timorius/Studium/Semester2/PR-PAMI/doomenv/lib/python3.8/site-packages/gym/envs/registration.py:517: UserWarning: \u001b[33mWARN: Overriding environment VizdoomDefendCenter-v0\u001b[0m\n",
      "  logger.warn(f\"Overriding environment {spec.id}\")\n",
      "/home/timorius/Studium/Semester2/PR-PAMI/doomenv/lib/python3.8/site-packages/gym/envs/registration.py:517: UserWarning: \u001b[33mWARN: Overriding environment VizdoomDefendLine-v0\u001b[0m\n",
      "  logger.warn(f\"Overriding environment {spec.id}\")\n",
      "/home/timorius/Studium/Semester2/PR-PAMI/doomenv/lib/python3.8/site-packages/gym/envs/registration.py:517: UserWarning: \u001b[33mWARN: Overriding environment VizdoomHealthGathering-v0\u001b[0m\n",
      "  logger.warn(f\"Overriding environment {spec.id}\")\n",
      "/home/timorius/Studium/Semester2/PR-PAMI/doomenv/lib/python3.8/site-packages/gym/envs/registration.py:517: UserWarning: \u001b[33mWARN: Overriding environment VizdoomMyWayHome-v0\u001b[0m\n",
      "  logger.warn(f\"Overriding environment {spec.id}\")\n",
      "/home/timorius/Studium/Semester2/PR-PAMI/doomenv/lib/python3.8/site-packages/gym/envs/registration.py:517: UserWarning: \u001b[33mWARN: Overriding environment VizdoomPredictPosition-v0\u001b[0m\n",
      "  logger.warn(f\"Overriding environment {spec.id}\")\n",
      "/home/timorius/Studium/Semester2/PR-PAMI/doomenv/lib/python3.8/site-packages/gym/envs/registration.py:517: UserWarning: \u001b[33mWARN: Overriding environment VizdoomTakeCover-v0\u001b[0m\n",
      "  logger.warn(f\"Overriding environment {spec.id}\")\n",
      "/home/timorius/Studium/Semester2/PR-PAMI/doomenv/lib/python3.8/site-packages/gym/envs/registration.py:517: UserWarning: \u001b[33mWARN: Overriding environment VizdoomDeathmatch-v0\u001b[0m\n",
      "  logger.warn(f\"Overriding environment {spec.id}\")\n",
      "/home/timorius/Studium/Semester2/PR-PAMI/doomenv/lib/python3.8/site-packages/gym/envs/registration.py:517: UserWarning: \u001b[33mWARN: Overriding environment VizdoomHealthGatheringSupreme-v0\u001b[0m\n",
      "  logger.warn(f\"Overriding environment {spec.id}\")\n"
     ]
    }
   ],
   "source": [
    "import random\n",
    "import time\n",
    "import torch\n",
    "import numpy as np\n",
    "import ray\n",
    "from worker import Learner, Actor, ReplayBuffer\n",
    "import config"
   ]
  },
  {
   "cell_type": "code",
   "execution_count": 2,
   "id": "480ddee6",
   "metadata": {},
   "outputs": [],
   "source": [
    "torch.manual_seed(0)\n",
    "np.random.seed(0)\n",
    "random.seed(0)\n",
    "torch.set_num_threads(1)"
   ]
  },
  {
   "cell_type": "code",
   "execution_count": 3,
   "id": "7b2bf3c2",
   "metadata": {},
   "outputs": [],
   "source": [
    "def get_epsilon(actor_id: int, base_eps: float = config.base_eps, alpha: float = config.alpha, num_actors: int = config.num_actors):\n",
    "    exponent = 1 + actor_id / (num_actors-1) * alpha\n",
    "    return base_eps**exponent"
   ]
  },
  {
   "cell_type": "code",
   "execution_count": 4,
   "id": "fb8c8f49",
   "metadata": {},
   "outputs": [],
   "source": [
    "def train(num_actors=config.num_actors, log_interval=config.log_interval):\n",
    "    ray.init()\n",
    "\n",
    "    buffer = ReplayBuffer.remote()\n",
    "    learner = Learner.remote(buffer)\n",
    "    actors = [Actor.remote(get_epsilon(i), learner, buffer) for i in range(num_actors)]\n",
    "\n",
    "    for actor in actors:\n",
    "        actor.run.remote()\n",
    "\n",
    "    while not ray.get(buffer.ready.remote()):\n",
    "        time.sleep(log_interval)\n",
    "        ray.get(buffer.log.remote(log_interval))\n",
    "        print()\n",
    "\n",
    "    print('start training')\n",
    "    learner.run.remote()\n",
    "    \n",
    "    done = False\n",
    "    while not done:\n",
    "        time.sleep(log_interval)\n",
    "        done = ray.get(buffer.log.remote(log_interval))\n",
    "        print()"
   ]
  },
  {
   "cell_type": "code",
   "execution_count": null,
   "id": "9ec775b0",
   "metadata": {},
   "outputs": [
    {
     "name": "stdout",
     "output_type": "stream",
     "text": [
      "\u001b[2m\u001b[1m\u001b[36m(scheduler +15s)\u001b[0m Tip: use `ray status` to view detailed cluster status. To disable these messages, set RAY_SCHEDULER_EVENTS=0.\n",
      "\u001b[2m\u001b[1m\u001b[33m(scheduler +15s)\u001b[0m Error: No available node types can fulfill resource request {'GPU': 1.0, 'CPU': 1.0}. Add suitable node types to this cluster to resolve this issue.\n"
     ]
    },
    {
     "name": "stderr",
     "output_type": "stream",
     "text": [
      "\u001b[2m\u001b[36m(pid=8150)\u001b[0m /home/timorius/Studium/Semester2/PR-PAMI/doomenv/lib/python3.8/site-packages/gym/envs/registration.py:517: UserWarning: \u001b[33mWARN: Overriding environment VizdoomBasic-v0\u001b[0m\n",
      "\u001b[2m\u001b[36m(pid=8150)\u001b[0m   logger.warn(f\"Overriding environment {spec.id}\")\n",
      "\u001b[2m\u001b[36m(pid=8150)\u001b[0m /home/timorius/Studium/Semester2/PR-PAMI/doomenv/lib/python3.8/site-packages/gym/envs/registration.py:517: UserWarning: \u001b[33mWARN: Overriding environment VizdoomCorridor-v0\u001b[0m\n",
      "\u001b[2m\u001b[36m(pid=8150)\u001b[0m   logger.warn(f\"Overriding environment {spec.id}\")\n",
      "\u001b[2m\u001b[36m(pid=8150)\u001b[0m /home/timorius/Studium/Semester2/PR-PAMI/doomenv/lib/python3.8/site-packages/gym/envs/registration.py:517: UserWarning: \u001b[33mWARN: Overriding environment VizdoomDefendCenter-v0\u001b[0m\n",
      "\u001b[2m\u001b[36m(pid=8150)\u001b[0m   logger.warn(f\"Overriding environment {spec.id}\")\n",
      "\u001b[2m\u001b[36m(pid=8150)\u001b[0m /home/timorius/Studium/Semester2/PR-PAMI/doomenv/lib/python3.8/site-packages/gym/envs/registration.py:517: UserWarning: \u001b[33mWARN: Overriding environment VizdoomDefendLine-v0\u001b[0m\n",
      "\u001b[2m\u001b[36m(pid=8150)\u001b[0m   logger.warn(f\"Overriding environment {spec.id}\")\n",
      "\u001b[2m\u001b[36m(pid=8150)\u001b[0m /home/timorius/Studium/Semester2/PR-PAMI/doomenv/lib/python3.8/site-packages/gym/envs/registration.py:517: UserWarning: \u001b[33mWARN: Overriding environment VizdoomHealthGathering-v0\u001b[0m\n",
      "\u001b[2m\u001b[36m(pid=8150)\u001b[0m   logger.warn(f\"Overriding environment {spec.id}\")\n",
      "\u001b[2m\u001b[36m(pid=8150)\u001b[0m /home/timorius/Studium/Semester2/PR-PAMI/doomenv/lib/python3.8/site-packages/gym/envs/registration.py:517: UserWarning: \u001b[33mWARN: Overriding environment VizdoomMyWayHome-v0\u001b[0m\n",
      "\u001b[2m\u001b[36m(pid=8150)\u001b[0m   logger.warn(f\"Overriding environment {spec.id}\")\n",
      "\u001b[2m\u001b[36m(pid=8150)\u001b[0m /home/timorius/Studium/Semester2/PR-PAMI/doomenv/lib/python3.8/site-packages/gym/envs/registration.py:517: UserWarning: \u001b[33mWARN: Overriding environment VizdoomPredictPosition-v0\u001b[0m\n",
      "\u001b[2m\u001b[36m(pid=8150)\u001b[0m   logger.warn(f\"Overriding environment {spec.id}\")\n",
      "\u001b[2m\u001b[36m(pid=8150)\u001b[0m /home/timorius/Studium/Semester2/PR-PAMI/doomenv/lib/python3.8/site-packages/gym/envs/registration.py:517: UserWarning: \u001b[33mWARN: Overriding environment VizdoomTakeCover-v0\u001b[0m\n",
      "\u001b[2m\u001b[36m(pid=8150)\u001b[0m   logger.warn(f\"Overriding environment {spec.id}\")\n",
      "\u001b[2m\u001b[36m(pid=8150)\u001b[0m /home/timorius/Studium/Semester2/PR-PAMI/doomenv/lib/python3.8/site-packages/gym/envs/registration.py:517: UserWarning: \u001b[33mWARN: Overriding environment VizdoomDeathmatch-v0\u001b[0m\n",
      "\u001b[2m\u001b[36m(pid=8150)\u001b[0m   logger.warn(f\"Overriding environment {spec.id}\")\n",
      "\u001b[2m\u001b[36m(pid=8150)\u001b[0m /home/timorius/Studium/Semester2/PR-PAMI/doomenv/lib/python3.8/site-packages/gym/envs/registration.py:517: UserWarning: \u001b[33mWARN: Overriding environment VizdoomHealthGatheringSupreme-v0\u001b[0m\n",
      "\u001b[2m\u001b[36m(pid=8150)\u001b[0m   logger.warn(f\"Overriding environment {spec.id}\")\n",
      "\u001b[2m\u001b[36m(Actor pid=8150)\u001b[0m /home/timorius/Studium/Semester2/PR-PAMI/doomenv/lib/python3.8/site-packages/vizdoom/gym_wrapper/base_gym_env.py:51: UserWarning: Detected screen format CRCGCB. Only RGB24 is supported in the Gym wrapper. Forcing RGB24.\n",
      "\u001b[2m\u001b[36m(Actor pid=8150)\u001b[0m   warnings.warn(f\"Detected screen format {screen_format.name}. Only RGB24 is supported in the Gym wrapper. Forcing RGB24.\")\n",
      "\u001b[2m\u001b[36m(pid=8151)\u001b[0m /home/timorius/Studium/Semester2/PR-PAMI/doomenv/lib/python3.8/site-packages/gym/envs/registration.py:517: UserWarning: \u001b[33mWARN: Overriding environment VizdoomBasic-v0\u001b[0m\n",
      "\u001b[2m\u001b[36m(pid=8151)\u001b[0m   logger.warn(f\"Overriding environment {spec.id}\")\n",
      "\u001b[2m\u001b[36m(pid=8151)\u001b[0m /home/timorius/Studium/Semester2/PR-PAMI/doomenv/lib/python3.8/site-packages/gym/envs/registration.py:517: UserWarning: \u001b[33mWARN: Overriding environment VizdoomCorridor-v0\u001b[0m\n",
      "\u001b[2m\u001b[36m(pid=8151)\u001b[0m   logger.warn(f\"Overriding environment {spec.id}\")\n",
      "\u001b[2m\u001b[36m(pid=8151)\u001b[0m /home/timorius/Studium/Semester2/PR-PAMI/doomenv/lib/python3.8/site-packages/gym/envs/registration.py:517: UserWarning: \u001b[33mWARN: Overriding environment VizdoomDefendCenter-v0\u001b[0m\n",
      "\u001b[2m\u001b[36m(pid=8151)\u001b[0m   logger.warn(f\"Overriding environment {spec.id}\")\n",
      "\u001b[2m\u001b[36m(pid=8151)\u001b[0m /home/timorius/Studium/Semester2/PR-PAMI/doomenv/lib/python3.8/site-packages/gym/envs/registration.py:517: UserWarning: \u001b[33mWARN: Overriding environment VizdoomDefendLine-v0\u001b[0m\n",
      "\u001b[2m\u001b[36m(pid=8151)\u001b[0m   logger.warn(f\"Overriding environment {spec.id}\")\n",
      "\u001b[2m\u001b[36m(pid=8151)\u001b[0m /home/timorius/Studium/Semester2/PR-PAMI/doomenv/lib/python3.8/site-packages/gym/envs/registration.py:517: UserWarning: \u001b[33mWARN: Overriding environment VizdoomHealthGathering-v0\u001b[0m\n",
      "\u001b[2m\u001b[36m(pid=8151)\u001b[0m   logger.warn(f\"Overriding environment {spec.id}\")\n",
      "\u001b[2m\u001b[36m(pid=8151)\u001b[0m /home/timorius/Studium/Semester2/PR-PAMI/doomenv/lib/python3.8/site-packages/gym/envs/registration.py:517: UserWarning: \u001b[33mWARN: Overriding environment VizdoomMyWayHome-v0\u001b[0m\n",
      "\u001b[2m\u001b[36m(pid=8151)\u001b[0m   logger.warn(f\"Overriding environment {spec.id}\")\n",
      "\u001b[2m\u001b[36m(pid=8151)\u001b[0m /home/timorius/Studium/Semester2/PR-PAMI/doomenv/lib/python3.8/site-packages/gym/envs/registration.py:517: UserWarning: \u001b[33mWARN: Overriding environment VizdoomPredictPosition-v0\u001b[0m\n",
      "\u001b[2m\u001b[36m(pid=8151)\u001b[0m   logger.warn(f\"Overriding environment {spec.id}\")\n",
      "\u001b[2m\u001b[36m(pid=8151)\u001b[0m /home/timorius/Studium/Semester2/PR-PAMI/doomenv/lib/python3.8/site-packages/gym/envs/registration.py:517: UserWarning: \u001b[33mWARN: Overriding environment VizdoomTakeCover-v0\u001b[0m\n",
      "\u001b[2m\u001b[36m(pid=8151)\u001b[0m   logger.warn(f\"Overriding environment {spec.id}\")\n",
      "\u001b[2m\u001b[36m(pid=8151)\u001b[0m /home/timorius/Studium/Semester2/PR-PAMI/doomenv/lib/python3.8/site-packages/gym/envs/registration.py:517: UserWarning: \u001b[33mWARN: Overriding environment VizdoomDeathmatch-v0\u001b[0m\n",
      "\u001b[2m\u001b[36m(pid=8151)\u001b[0m   logger.warn(f\"Overriding environment {spec.id}\")\n",
      "\u001b[2m\u001b[36m(pid=8151)\u001b[0m /home/timorius/Studium/Semester2/PR-PAMI/doomenv/lib/python3.8/site-packages/gym/envs/registration.py:517: UserWarning: \u001b[33mWARN: Overriding environment VizdoomHealthGatheringSupreme-v0\u001b[0m\n",
      "\u001b[2m\u001b[36m(pid=8151)\u001b[0m   logger.warn(f\"Overriding environment {spec.id}\")\n",
      "\u001b[2m\u001b[36m(Actor pid=8151)\u001b[0m /home/timorius/Studium/Semester2/PR-PAMI/doomenv/lib/python3.8/site-packages/vizdoom/gym_wrapper/base_gym_env.py:51: UserWarning: Detected screen format CRCGCB. Only RGB24 is supported in the Gym wrapper. Forcing RGB24.\n",
      "\u001b[2m\u001b[36m(Actor pid=8151)\u001b[0m   warnings.warn(f\"Detected screen format {screen_format.name}. Only RGB24 is supported in the Gym wrapper. Forcing RGB24.\")\n",
      "\u001b[2m\u001b[36m(Actor pid=8150)\u001b[0m /home/timorius/Studium/Semester2/PR-PAMI/doomenv/lib/python3.8/site-packages/gym/utils/passive_env_checker.py:97: UserWarning: \u001b[33mWARN: We recommend you to use a symmetric and normalized Box action space (range=[-1, 1]) https://stable-baselines3.readthedocs.io/en/master/guide/rl_tips.html\u001b[0m\n",
      "\u001b[2m\u001b[36m(Actor pid=8150)\u001b[0m   logger.warn(\n",
      "\u001b[2m\u001b[36m(Actor pid=8151)\u001b[0m /home/timorius/Studium/Semester2/PR-PAMI/doomenv/lib/python3.8/site-packages/gym/utils/passive_env_checker.py:97: UserWarning: \u001b[33mWARN: We recommend you to use a symmetric and normalized Box action space (range=[-1, 1]) https://stable-baselines3.readthedocs.io/en/master/guide/rl_tips.html\u001b[0m\n",
      "\u001b[2m\u001b[36m(Actor pid=8151)\u001b[0m   logger.warn(\n",
      "2022-06-15 17:41:43,242\tERROR worker.py:94 -- Unhandled error (suppress with 'RAY_IGNORE_UNHANDLED_ERRORS=1'): \u001b[36mray::Actor.run()\u001b[39m (pid=8150, ip=10.108.230.138, repr=<worker.Actor object at 0x7f95f8f4e880>)\n",
      "  File \"/home/timorius/Studium/Semester2/PR-PAMI/R2D2/worker.py\", line 513, in run\n",
      "    self.reset()\n",
      "  File \"/home/timorius/Studium/Semester2/PR-PAMI/R2D2/worker.py\", line 568, in reset\n",
      "    obs = self.env.reset()\n",
      "  File \"/home/timorius/Studium/Semester2/PR-PAMI/doomenv/lib/python3.8/site-packages/gym/core.py\", line 401, in reset\n",
      "    return self.observation(self.env.reset(**kwargs))\n",
      "  File \"/home/timorius/Studium/Semester2/PR-PAMI/R2D2/environment.py\", line 71, in observation\n",
      "    frame = cv2.cvtColor(frame, cv2.COLOR_RGB2GRAY)\n",
      "cv2.error: OpenCV(4.6.0) :-1: error: (-5:Bad argument) in function 'cvtColor'\n",
      "> Overload resolution failed:\n",
      ">  - src is not a numpy array, neither a scalar\n",
      ">  - Expected Ptr<cv::UMat> for argument 'src'\n",
      "2022-06-15 17:41:43,304\tERROR worker.py:94 -- Unhandled error (suppress with 'RAY_IGNORE_UNHANDLED_ERRORS=1'): \u001b[36mray::Actor.run()\u001b[39m (pid=8151, ip=10.108.230.138, repr=<worker.Actor object at 0x7f2500047820>)\n",
      "  File \"/home/timorius/Studium/Semester2/PR-PAMI/R2D2/worker.py\", line 513, in run\n",
      "    self.reset()\n",
      "  File \"/home/timorius/Studium/Semester2/PR-PAMI/R2D2/worker.py\", line 568, in reset\n",
      "    obs = self.env.reset()\n",
      "  File \"/home/timorius/Studium/Semester2/PR-PAMI/doomenv/lib/python3.8/site-packages/gym/core.py\", line 401, in reset\n",
      "    return self.observation(self.env.reset(**kwargs))\n",
      "  File \"/home/timorius/Studium/Semester2/PR-PAMI/R2D2/environment.py\", line 71, in observation\n",
      "    frame = cv2.cvtColor(frame, cv2.COLOR_RGB2GRAY)\n",
      "cv2.error: OpenCV(4.6.0) :-1: error: (-5:Bad argument) in function 'cvtColor'\n",
      "> Overload resolution failed:\n",
      ">  - src is not a numpy array, neither a scalar\n",
      ">  - Expected Ptr<cv::UMat> for argument 'src'\n"
     ]
    }
   ],
   "source": [
    "train()"
   ]
  },
  {
   "cell_type": "code",
   "execution_count": null,
   "id": "07834905",
   "metadata": {},
   "outputs": [],
   "source": []
  }
 ],
 "metadata": {
  "kernelspec": {
   "display_name": "Python 3",
   "language": "python",
   "name": "python3"
  },
  "language_info": {
   "codemirror_mode": {
    "name": "ipython",
    "version": 3
   },
   "file_extension": ".py",
   "mimetype": "text/x-python",
   "name": "python",
   "nbconvert_exporter": "python",
   "pygments_lexer": "ipython3",
   "version": "3.8.10"
  }
 },
 "nbformat": 4,
 "nbformat_minor": 5
}
